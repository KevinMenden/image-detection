{
 "cells": [
  {
   "cell_type": "code",
   "execution_count": 1,
   "metadata": {},
   "outputs": [],
   "source": [
    "import numpy as np"
   ]
  },
  {
   "cell_type": "code",
   "execution_count": 7,
   "metadata": {},
   "outputs": [],
   "source": [
    "def outsize(h, k, p, s, d):\n",
    "    return (h + 2*p - d * (k-1)-1)/s + 1"
   ]
  },
  {
   "cell_type": "code",
   "execution_count": 10,
   "metadata": {},
   "outputs": [
    {
     "data": {
      "text/plain": [
       "150.0"
      ]
     },
     "execution_count": 10,
     "metadata": {},
     "output_type": "execute_result"
    }
   ],
   "source": [
    "w = 299\n",
    "k = 7\n",
    "s = 2\n",
    "p = 3\n",
    "d = 1\n",
    "outsize(w, k, p, s, d)"
   ]
  },
  {
   "cell_type": "code",
   "execution_count": 11,
   "metadata": {},
   "outputs": [
    {
     "data": {
      "text/plain": [
       "75.0"
      ]
     },
     "execution_count": 11,
     "metadata": {},
     "output_type": "execute_result"
    }
   ],
   "source": [
    "# Block 1\n",
    "w = 75\n",
    "k = 3\n",
    "p = 1\n",
    "s = 1\n",
    "d = 1\n",
    "outsize(w,k,p,s,d)"
   ]
  },
  {
   "cell_type": "code",
   "execution_count": 23,
   "metadata": {},
   "outputs": [
    {
     "name": "stdout",
     "output_type": "stream",
     "text": [
      "38.0\n",
      "19.5\n",
      "19.5\n"
     ]
    }
   ],
   "source": [
    "# Block 2\n",
    "w = 75\n",
    "k = 3\n",
    "p = 1\n",
    "s = 2\n",
    "d = 1\n",
    "w = outsize(w,k,p,s,d)\n",
    "print(w)\n",
    "\n",
    "\n",
    "k = 3\n",
    "p = 1\n",
    "s = 2\n",
    "d = 1\n",
    "w = outsize(w,k,p,s,d)\n",
    "print(w)\n",
    "\n",
    "k = 3\n",
    "p = 1\n",
    "s = 1\n",
    "d = 1\n",
    "w = outsize(w,k,p,s,d)\n",
    "print(w)\n"
   ]
  },
  {
   "cell_type": "code",
   "execution_count": 21,
   "metadata": {},
   "outputs": [
    {
     "name": "stdout",
     "output_type": "stream",
     "text": [
      "10.25\n",
      "5.625\n",
      "5.625\n"
     ]
    }
   ],
   "source": [
    "# Block 3\n",
    "k = 3\n",
    "p = 1\n",
    "s = 2\n",
    "d = 1\n",
    "w = outsize(w,k,p,s,d)\n",
    "print(w)\n",
    "\n",
    "\n",
    "k = 3\n",
    "p = 1\n",
    "s = 2\n",
    "d = 1\n",
    "w = outsize(w,k,p,s,d)\n",
    "print(w)\n",
    "\n",
    "k = 3\n",
    "p = 1\n",
    "s = 1\n",
    "d = 1\n",
    "w = outsize(w,k,p,s,d)\n",
    "print(w)"
   ]
  },
  {
   "cell_type": "code",
   "execution_count": 22,
   "metadata": {},
   "outputs": [
    {
     "name": "stdout",
     "output_type": "stream",
     "text": [
      "3.3125\n",
      "2.15625\n",
      "2.15625\n"
     ]
    }
   ],
   "source": [
    "# Block 4\n",
    "k = 3\n",
    "p = 1\n",
    "s = 2\n",
    "d = 1\n",
    "w = outsize(w,k,p,s,d)\n",
    "print(w)\n",
    "\n",
    "\n",
    "k = 3\n",
    "p = 1\n",
    "s = 2\n",
    "d = 1\n",
    "w = outsize(w,k,p,s,d)\n",
    "print(w)\n",
    "\n",
    "k = 3\n",
    "p = 1\n",
    "s = 1\n",
    "d = 1\n",
    "w = outsize(w,k,p,s,d)\n",
    "print(w)"
   ]
  },
  {
   "cell_type": "code",
   "execution_count": null,
   "metadata": {},
   "outputs": [],
   "source": []
  }
 ],
 "metadata": {
  "kernelspec": {
   "display_name": "Python 3",
   "language": "python",
   "name": "python3"
  },
  "language_info": {
   "codemirror_mode": {
    "name": "ipython",
    "version": 3
   },
   "file_extension": ".py",
   "mimetype": "text/x-python",
   "name": "python",
   "nbconvert_exporter": "python",
   "pygments_lexer": "ipython3",
   "version": "3.7.4"
  }
 },
 "nbformat": 4,
 "nbformat_minor": 2
}
